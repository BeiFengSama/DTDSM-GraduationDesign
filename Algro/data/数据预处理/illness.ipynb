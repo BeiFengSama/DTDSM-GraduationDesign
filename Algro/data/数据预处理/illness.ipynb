{
 "cells": [
  {
   "cell_type": "code",
   "execution_count": 1,
   "metadata": {},
   "outputs": [],
   "source": [
    "import pandas as pd\n",
    "import numpy as np\n",
    "import matplotlib.pyplot as plt\n",
    "from statsmodels.tsa.seasonal import STL, seasonal_decompose"
   ]
  },
  {
   "cell_type": "code",
   "execution_count": 2,
   "metadata": {},
   "outputs": [
    {
     "data": {
      "text/html": [
       "<div>\n",
       "<style scoped>\n",
       "    .dataframe tbody tr th:only-of-type {\n",
       "        vertical-align: middle;\n",
       "    }\n",
       "\n",
       "    .dataframe tbody tr th {\n",
       "        vertical-align: top;\n",
       "    }\n",
       "\n",
       "    .dataframe thead th {\n",
       "        text-align: right;\n",
       "    }\n",
       "</style>\n",
       "<table border=\"1\" class=\"dataframe\">\n",
       "  <thead>\n",
       "    <tr style=\"text-align: right;\">\n",
       "      <th></th>\n",
       "      <th>date</th>\n",
       "      <th>% WEIGHTED ILI</th>\n",
       "      <th>%UNWEIGHTED ILI</th>\n",
       "      <th>AGE 0-4</th>\n",
       "      <th>AGE 5-24</th>\n",
       "      <th>ILITOTAL</th>\n",
       "      <th>NUM. OF PROVIDERS</th>\n",
       "      <th>OT</th>\n",
       "    </tr>\n",
       "  </thead>\n",
       "  <tbody>\n",
       "    <tr>\n",
       "      <th>0</th>\n",
       "      <td>2002-01-01 00:00:00</td>\n",
       "      <td>1.22262</td>\n",
       "      <td>1.16668</td>\n",
       "      <td>582</td>\n",
       "      <td>805</td>\n",
       "      <td>2060</td>\n",
       "      <td>754</td>\n",
       "      <td>176569</td>\n",
       "    </tr>\n",
       "    <tr>\n",
       "      <th>1</th>\n",
       "      <td>2002-01-08 00:00:00</td>\n",
       "      <td>1.33344</td>\n",
       "      <td>1.21650</td>\n",
       "      <td>683</td>\n",
       "      <td>872</td>\n",
       "      <td>2267</td>\n",
       "      <td>785</td>\n",
       "      <td>186355</td>\n",
       "    </tr>\n",
       "  </tbody>\n",
       "</table>\n",
       "</div>"
      ],
      "text/plain": [
       "                  date  % WEIGHTED ILI  %UNWEIGHTED ILI  AGE 0-4  AGE 5-24  \\\n",
       "0  2002-01-01 00:00:00         1.22262          1.16668      582       805   \n",
       "1  2002-01-08 00:00:00         1.33344          1.21650      683       872   \n",
       "\n",
       "   ILITOTAL  NUM. OF PROVIDERS      OT  \n",
       "0      2060                754  176569  \n",
       "1      2267                785  186355  "
      ]
     },
     "execution_count": 2,
     "metadata": {},
     "output_type": "execute_result"
    }
   ],
   "source": [
    "df = pd.read_csv('../原始数据集/national_illness.csv')\n",
    "df.head(2)"
   ]
  },
  {
   "cell_type": "code",
   "execution_count": 3,
   "metadata": {},
   "outputs": [
    {
     "name": "stdout",
     "output_type": "stream",
     "text": [
      "<class 'pandas.core.frame.DataFrame'>\n",
      "RangeIndex: 966 entries, 0 to 965\n",
      "Data columns (total 8 columns):\n",
      " #   Column             Non-Null Count  Dtype  \n",
      "---  ------             --------------  -----  \n",
      " 0   date               966 non-null    object \n",
      " 1   % WEIGHTED ILI     966 non-null    float64\n",
      " 2   %UNWEIGHTED ILI    966 non-null    float64\n",
      " 3   AGE 0-4            966 non-null    int64  \n",
      " 4   AGE 5-24           966 non-null    int64  \n",
      " 5   ILITOTAL           966 non-null    int64  \n",
      " 6   NUM. OF PROVIDERS  966 non-null    int64  \n",
      " 7   OT                 966 non-null    int64  \n",
      "dtypes: float64(2), int64(5), object(1)\n",
      "memory usage: 60.5+ KB\n"
     ]
    }
   ],
   "source": [
    "df.info()"
   ]
  },
  {
   "cell_type": "code",
   "execution_count": 4,
   "metadata": {},
   "outputs": [],
   "source": [
    "df['date'] = pd.to_datetime(df['date'])"
   ]
  },
  {
   "cell_type": "code",
   "execution_count": 5,
   "metadata": {},
   "outputs": [
    {
     "data": {
      "text/html": [
       "<div>\n",
       "<style scoped>\n",
       "    .dataframe tbody tr th:only-of-type {\n",
       "        vertical-align: middle;\n",
       "    }\n",
       "\n",
       "    .dataframe tbody tr th {\n",
       "        vertical-align: top;\n",
       "    }\n",
       "\n",
       "    .dataframe thead th {\n",
       "        text-align: right;\n",
       "    }\n",
       "</style>\n",
       "<table border=\"1\" class=\"dataframe\">\n",
       "  <thead>\n",
       "    <tr style=\"text-align: right;\">\n",
       "      <th></th>\n",
       "      <th>date</th>\n",
       "      <th>% WEIGHTED ILI</th>\n",
       "      <th>%UNWEIGHTED ILI</th>\n",
       "      <th>AGE 0-4</th>\n",
       "      <th>AGE 5-24</th>\n",
       "      <th>ILITOTAL</th>\n",
       "      <th>NUM. OF PROVIDERS</th>\n",
       "      <th>OT</th>\n",
       "    </tr>\n",
       "  </thead>\n",
       "  <tbody>\n",
       "    <tr>\n",
       "      <th>count</th>\n",
       "      <td>966</td>\n",
       "      <td>966.000000</td>\n",
       "      <td>966.000000</td>\n",
       "      <td>966.000000</td>\n",
       "      <td>966.000000</td>\n",
       "      <td>966.000000</td>\n",
       "      <td>966.000000</td>\n",
       "      <td>9.660000e+02</td>\n",
       "    </tr>\n",
       "    <tr>\n",
       "      <th>mean</th>\n",
       "      <td>2011-04-01 12:00:00</td>\n",
       "      <td>1.851286</td>\n",
       "      <td>1.845240</td>\n",
       "      <td>3434.813665</td>\n",
       "      <td>4981.128364</td>\n",
       "      <td>13540.716356</td>\n",
       "      <td>1608.261905</td>\n",
       "      <td>6.514975e+05</td>\n",
       "    </tr>\n",
       "    <tr>\n",
       "      <th>min</th>\n",
       "      <td>2002-01-01 00:00:00</td>\n",
       "      <td>0.351881</td>\n",
       "      <td>0.491507</td>\n",
       "      <td>98.000000</td>\n",
       "      <td>91.000000</td>\n",
       "      <td>318.000000</td>\n",
       "      <td>264.000000</td>\n",
       "      <td>6.469900e+04</td>\n",
       "    </tr>\n",
       "    <tr>\n",
       "      <th>25%</th>\n",
       "      <td>2006-08-16 18:00:00</td>\n",
       "      <td>0.971185</td>\n",
       "      <td>0.978537</td>\n",
       "      <td>1487.000000</td>\n",
       "      <td>1667.500000</td>\n",
       "      <td>4915.000000</td>\n",
       "      <td>1238.000000</td>\n",
       "      <td>3.853698e+05</td>\n",
       "    </tr>\n",
       "    <tr>\n",
       "      <th>50%</th>\n",
       "      <td>2011-04-01 12:00:00</td>\n",
       "      <td>1.375970</td>\n",
       "      <td>1.359065</td>\n",
       "      <td>2552.000000</td>\n",
       "      <td>3265.500000</td>\n",
       "      <td>9028.500000</td>\n",
       "      <td>1501.500000</td>\n",
       "      <td>6.183050e+05</td>\n",
       "    </tr>\n",
       "    <tr>\n",
       "      <th>75%</th>\n",
       "      <td>2015-11-15 06:00:00</td>\n",
       "      <td>2.291583</td>\n",
       "      <td>2.223535</td>\n",
       "      <td>4457.750000</td>\n",
       "      <td>5673.500000</td>\n",
       "      <td>16243.750000</td>\n",
       "      <td>1990.000000</td>\n",
       "      <td>8.134695e+05</td>\n",
       "    </tr>\n",
       "    <tr>\n",
       "      <th>max</th>\n",
       "      <td>2020-06-30 00:00:00</td>\n",
       "      <td>7.715100</td>\n",
       "      <td>7.780900</td>\n",
       "      <td>24097.000000</td>\n",
       "      <td>45513.000000</td>\n",
       "      <td>111361.000000</td>\n",
       "      <td>3453.000000</td>\n",
       "      <td>1.640587e+06</td>\n",
       "    </tr>\n",
       "    <tr>\n",
       "      <th>std</th>\n",
       "      <td>NaN</td>\n",
       "      <td>1.343042</td>\n",
       "      <td>1.309019</td>\n",
       "      <td>3153.962885</td>\n",
       "      <td>5953.881662</td>\n",
       "      <td>15010.894094</td>\n",
       "      <td>681.580042</td>\n",
       "      <td>3.490189e+05</td>\n",
       "    </tr>\n",
       "  </tbody>\n",
       "</table>\n",
       "</div>"
      ],
      "text/plain": [
       "                      date  % WEIGHTED ILI  %UNWEIGHTED ILI       AGE 0-4  \\\n",
       "count                  966      966.000000       966.000000    966.000000   \n",
       "mean   2011-04-01 12:00:00        1.851286         1.845240   3434.813665   \n",
       "min    2002-01-01 00:00:00        0.351881         0.491507     98.000000   \n",
       "25%    2006-08-16 18:00:00        0.971185         0.978537   1487.000000   \n",
       "50%    2011-04-01 12:00:00        1.375970         1.359065   2552.000000   \n",
       "75%    2015-11-15 06:00:00        2.291583         2.223535   4457.750000   \n",
       "max    2020-06-30 00:00:00        7.715100         7.780900  24097.000000   \n",
       "std                    NaN        1.343042         1.309019   3153.962885   \n",
       "\n",
       "           AGE 5-24       ILITOTAL  NUM. OF PROVIDERS            OT  \n",
       "count    966.000000     966.000000         966.000000  9.660000e+02  \n",
       "mean    4981.128364   13540.716356        1608.261905  6.514975e+05  \n",
       "min       91.000000     318.000000         264.000000  6.469900e+04  \n",
       "25%     1667.500000    4915.000000        1238.000000  3.853698e+05  \n",
       "50%     3265.500000    9028.500000        1501.500000  6.183050e+05  \n",
       "75%     5673.500000   16243.750000        1990.000000  8.134695e+05  \n",
       "max    45513.000000  111361.000000        3453.000000  1.640587e+06  \n",
       "std     5953.881662   15010.894094         681.580042  3.490189e+05  "
      ]
     },
     "execution_count": 5,
     "metadata": {},
     "output_type": "execute_result"
    }
   ],
   "source": [
    "df.describe()"
   ]
  },
  {
   "cell_type": "code",
   "execution_count": 7,
   "metadata": {},
   "outputs": [
    {
     "name": "stdout",
     "output_type": "stream",
     "text": [
      "均值为：651497.460，标准差为：349018.888\n",
      "KstestResult(statistic=0.08989597106840164, pvalue=3.0452092956108496e-07, statistic_location=855608, statistic_sign=1)\n",
      "异常值共0条\n"
     ]
    },
    {
     "data": {
      "text/plain": [
       "(-10.0, 1000.0)"
      ]
     },
     "execution_count": 7,
     "metadata": {},
     "output_type": "execute_result"
    },
    {
     "data": {
      "image/png": "[encoded data removed]",
      "text/plain": [
       "<Figure size 1500x600 with 1 Axes>"
      ]
     },
     "metadata": {},
     "output_type": "display_data"
    }
   ],
   "source": [
    "import numpy as np\n",
    "from scipy import stats\n",
    "\n",
    "\n",
    "mean = df['OT'].mean()  # 计算均值\n",
    "\n",
    "std = df['OT'].std()  # 计算标准差\n",
    "\n",
    "print('均值为：%.3f，标准差为：%.3f' % (mean, std))\n",
    "print(stats.kstest(df['OT'], 'norm', (mean, std)))\n",
    "\n",
    "\n",
    "fig, ax = plt.subplots(figsize=(15, 6))\n",
    "\n",
    "# df['OT'].plot(kind='kde', grid=True, style='-k', title='ETTh1', ax=ax1)\n",
    "\n",
    "error = df['OT'][np.abs(df['OT'] - mean) > 3 * std]\n",
    "\n",
    "data_c = df['OT'][np.abs(df['OT'] - mean) <= 3 * std]\n",
    "\n",
    "print('异常值共%i条' % len(error))\n",
    "\n",
    "# 筛选出异常值error、剔除异常值之后的数据data_c\n",
    "plt.rcParams['font.sans-serif'] = ['Kaitt', 'SimHei']\n",
    "plt.rcParams['axes.unicode_minus'] = False\n",
    "ax.scatter(data_c.index, data_c, marker='.', alpha=1, label='正常值')\n",
    "\n",
    "ax.scatter(error.index, error, marker='.', alpha=1, label='异常值')\n",
    "ax.set_xlabel('时间序列索引')\n",
    "ax.set_ylabel('value')\n",
    "ax.set_xlim([-10, 1000])\n",
    "\n"
   ]
  },
  {
   "cell_type": "code",
   "execution_count": 7,
   "metadata": {},
   "outputs": [],
   "source": [
    "data = pd.DataFrame(data_c)\n",
    "error = pd.DataFrame(error)\n",
    "data.to_csv('output/illness_normal.csv')\n",
    "error.to_csv('output/illness_error.csv')"
   ]
  },
  {
   "cell_type": "code",
   "execution_count": 14,
   "metadata": {},
   "outputs": [
    {
     "data": {
      "text/plain": [
       "'d:\\\\codefiled\\\\Graduation_Design\\\\models\\\\data\\\\preop\\\\scatter_plot.html'"
      ]
     },
     "execution_count": 14,
     "metadata": {},
     "output_type": "execute_result"
    }
   ],
   "source": [
    "import pandas as pd\n",
    "from pyecharts.charts import Scatter\n",
    "from pyecharts import options as opts\n",
    "\n",
    "# 假设你已经有了两个 DataFrame：data 和 error\n",
    "# 示例：\n",
    "\n",
    "data = pd.DataFrame(data_c)\n",
    "error = pd.DataFrame(error)\n",
    "# 创建散点图对象\n",
    "scatter = Scatter()\n",
    "\n",
    "# 添加 data 数据\n",
    "scatter.add_xaxis(data.index.tolist())\n",
    "scatter.add_yaxis(\n",
    "    \"正常值\", \n",
    "    data['OT'].tolist(), \n",
    "    symbol_size=10,\n",
    "    label_opts=opts.LabelOpts(is_show=False)  # 不显示标签\n",
    ")\n",
    "\n",
    "# 添加 error 数据\n",
    "scatter.add_xaxis(error.index.tolist())\n",
    "scatter.add_yaxis(\n",
    "    \"异常值\", \n",
    "    error['OT'].tolist(), \n",
    "    symbol_size=10, \n",
    "    color=\"red\",\n",
    "    label_opts=opts.LabelOpts(is_show=False)  # 不显示标签\n",
    ")\n",
    "\n",
    "# 设置全局选项\n",
    "scatter.set_global_opts(\n",
    "    title_opts=opts.TitleOpts(title=\"正常值与异常值散点图\"),\n",
    "    xaxis_opts=opts.AxisOpts(type_=\"value\", name=\"索引\"),\n",
    "    yaxis_opts=opts.AxisOpts(type_=\"value\", name=\"值\"),\n",
    "    tooltip_opts=opts.TooltipOpts(trigger=\"item\", formatter=\"{a} <br/>{b}: {c}\")\n",
    ")\n",
    "\n",
    "# 渲染图表\n",
    "scatter.render(\"scatter_plot.html\")\n"
   ]
  }
 ],
 "metadata": {
  "kernelspec": {
   "display_name": "Python 3",
   "language": "python",
   "name": "python3"
  },
  "language_info": {
   "codemirror_mode": {
    "name": "ipython",
    "version": 3
   },
   "file_extension": ".py",
   "mimetype": "text/x-python",
   "name": "python",
   "nbconvert_exporter": "python",
   "pygments_lexer": "ipython3",
   "version": "3.11.4"
  }
 },
 "nbformat": 4,
 "nbformat_minor": 2
}
