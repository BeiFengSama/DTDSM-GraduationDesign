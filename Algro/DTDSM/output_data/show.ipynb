{
 "cells": [
  {
   "cell_type": "code",
   "execution_count": 1,
   "metadata": {},
   "outputs": [],
   "source": [
    "import pandas as pd\n",
    "import numpy as np\n",
    "from pyecharts.charts import Line, Grid\n",
    "from pyecharts import options as opts"
   ]
  },
  {
   "cell_type": "code",
   "execution_count": 2,
   "metadata": {},
   "outputs": [],
   "source": [
    "df = pd.read_csv('weather.csv')"
   ]
  },
  {
   "cell_type": "code",
   "execution_count": 7,
   "metadata": {},
   "outputs": [
    {
     "data": {
      "text/plain": [
       "'d:\\\\codefiled\\\\Graduation_Design\\\\models\\\\iAutoformer\\\\output_data\\\\comparison_chart.html'"
      ]
     },
     "execution_count": 7,
     "metadata": {},
     "output_type": "execute_result"
    }
   ],
   "source": [
    "from pyecharts.charts import Line\n",
    "from pyecharts import options as opts\n",
    "\n",
    "# 创建 Line 图表对象\n",
    "line = Line()\n",
    "\n",
    "# 添加 X 轴数据，假设是索引值\n",
    "x_data = list(range(len(df)))\n",
    "\n",
    "# 添加 Y 轴数据并关闭数据点标签\n",
    "line.add_xaxis(x_data)\n",
    "line.add_yaxis(\"Trues\", df['trues'].tolist(), label_opts=opts.LabelOpts(is_show=False))\n",
    "line.add_yaxis(\"TDIformer\", df['TDIformer'].tolist(), label_opts=opts.LabelOpts(is_show=False))\n",
    "line.add_yaxis(\"iTransformer\", df['iTransformer'].tolist(), label_opts=opts.LabelOpts(is_show=False))\n",
    "line.add_yaxis(\"TimesNet\", df['TimesNet'].tolist(), label_opts=opts.LabelOpts(is_show=False))\n",
    "line.add_yaxis(\"Informer\", df['Informer'].tolist(), label_opts=opts.LabelOpts(is_show=False))\n",
    "\n",
    "# 设置全局选项\n",
    "line.set_global_opts(\n",
    "    title_opts=opts.TitleOpts(title=\"\"),\n",
    "    xaxis_opts=opts.AxisOpts(name=\"Index\"),\n",
    "    yaxis_opts=opts.AxisOpts(name=\"Values\")\n",
    ")\n",
    "\n",
    "# 渲染图表，生成 HTML 文件\n",
    "line.render(\"comparison_chart.html\")\n"
   ]
  }
 ],
 "metadata": {
  "kernelspec": {
   "display_name": "Python 3",
   "language": "python",
   "name": "python3"
  },
  "language_info": {
   "codemirror_mode": {
    "name": "ipython",
    "version": 3
   },
   "file_extension": ".py",
   "mimetype": "text/x-python",
   "name": "python",
   "nbconvert_exporter": "python",
   "pygments_lexer": "ipython3",
   "version": "3.11.4"
  }
 },
 "nbformat": 4,
 "nbformat_minor": 2
}
